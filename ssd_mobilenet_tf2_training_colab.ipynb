{
  "cells": [
    {
      "cell_type": "markdown",
      "metadata": {},
      "source": [
        "# SSD MobileNet v2 Training on Custom TFRecord Dataset (Roboflow + Colab)\n",
        "This notebook shows how to train an object detection model using TensorFlow's SSD MobileNet v2 on a labeled dataset in TFRecord format, fetched from Roboflow."
      ]
    },
    {
      "cell_type": "code",
      "metadata": {},
      "source": [
        "# \u2705 Install required libraries\n",
        "!pip install roboflow --quiet\n",
        "!pip install tensorflow_io --quiet\n",
        "!pip install tf_slim --quiet\n",
        "!pip install lxml --quiet\n",
        "!pip install pycocotools --quiet"
      ]
    },
    {
      "cell_type": "code",
      "metadata": {},
      "source": [
        "# \u2705 Import necessary libraries\n",
        "from roboflow import Roboflow\n",
        "import os\n",
        "import shutil\n",
        "import tensorflow as tf"
      ]
    },
    {
      "cell_type": "code",
      "metadata": {},
      "source": [
        "# \u2705 Download dataset from Roboflow\n",
        "# Replace with your Roboflow API key and project/version\n",
        "rf = Roboflow(api_key=\"<YOUR_API_KEY>\")\n",
        "project = rf.workspace(\"<WORKSPACE_NAME>\").project(\"<PROJECT_NAME>\")\n",
        "dataset = project.version(<VERSION_NUMBER>).download(\"tfrecord\")"
      ]
    },
    {
      "cell_type": "code",
      "metadata": {},
      "source": [
        "# \u2705 Clone TensorFlow models repository (if not already)\n",
        "!git clone --depth 1 https://github.com/tensorflow/models\n",
        "%cd models/research\n",
        "!protoc object_detection/protos/*.proto --python_out=.\n",
        "!cp object_detection/packages/tf2/setup.py .\n",
        "!python3 -m pip install . --quiet\n",
        "%cd ../.."
      ]
    },
    {
      "cell_type": "code",
      "metadata": {},
      "source": [
        "# \u2705 Download and extract pre-trained model checkpoint\n",
        "!rm -rf pre-trained-model\n",
        "!mkdir pre-trained-model\n",
        "%cd pre-trained-model\n",
        "!wget https://download.tensorflow.org/models/object_detection/ssd_mobilenet_v2_fpnlite_320x320_coco17_tpu-8.tar.gz\n",
        "!tar -xvzf ssd_mobilenet_v2_fpnlite_320x320_coco17_tpu-8.tar.gz\n",
        "%cd .."
      ]
    },
    {
      "cell_type": "code",
      "metadata": {},
      "source": [
        "# \u2705 Prepare pipeline config\n",
        "# Copy config to training directory\n",
        "!mkdir training\n",
        "!cp pre-trained-model/ssd_mobilenet_v2_fpnlite_320x320_coco17_tpu-8/pipeline.config training/ssd_mobilenet_v2.config"
      ]
    },
    {
      "cell_type": "markdown",
      "metadata": {},
      "source": [
        "\ud83d\udc49 Open `training/ssd_mobilenet_v2.config` and modify the following fields:\n",
        "- `fine_tune_checkpoint`: Path to `.ckpt` in the pre-trained model folder\n",
        "- `train_input_reader` > `label_map_path`: path to `label_map.pbtxt`\n",
        "- `train_input_reader` > `input_path`: path to `train.record`\n",
        "- `eval_input_reader` > `input_path`: path to `valid.record`\n",
        "- `num_classes`: total number of classes in your dataset"
      ]
    },
    {
      "cell_type": "code",
      "metadata": {},
      "source": [
        "# \u2705 Start training (adjust config and directory if needed)\n",
        "!python models/research/object_detection/model_main_tf2.py \\\n",
        "  --pipeline_config_path=training/ssd_mobilenet_v2.config \\\n",
        "  --model_dir=training \\\n",
        "  --alsologtostderr"
      ]
    },
    {
      "cell_type": "markdown",
      "metadata": {},
      "source": [
        "\u2705 After training, the model checkpoints will be available in the `training` folder.\n",
        "To export the trained model, use the `exporter_main_v2.py` script."
      ]
    }
  ],
  "metadata": {
    "kernelspec": {
      "display_name": "Python 3",
      "language": "python",
      "name": "python3"
    },
    "language_info": {
      "name": "python",
      "version": "3.8"
    }
  },
  "nbformat": 4,
  "nbformat_minor": 5
}